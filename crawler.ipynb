{
 "cells": [
  {
   "cell_type": "markdown",
   "metadata": {},
   "source": [
    "## Imports"
   ]
  },
  {
   "cell_type": "code",
   "execution_count": 2,
   "metadata": {},
   "outputs": [],
   "source": [
    "import GetOldTweets3 as got3\n",
    "import pandas as pd\n",
    "import datetime"
   ]
  },
  {
   "cell_type": "markdown",
   "metadata": {},
   "source": [
    "## Twitter data "
   ]
  },
  {
   "cell_type": "markdown",
   "metadata": {},
   "source": [
    "the following @s were used to do the query:\n",
    "<br>\n",
    "<b>\n",
    "    @Bradesco<br>\n",
    "    @itau<br>\n",
    "    @BancodoBrasil<br>\n",
    "    @nubank<br>\n",
    "    @Bancointer<br>\n",
    "    @falanext<br>\n",
    "</b>"
   ]
  },
  {
   "cell_type": "code",
   "execution_count": 3,
   "metadata": {},
   "outputs": [],
   "source": [
    "#@Bradesco\n",
    "#@itau\n",
    "#@BancodoBrasil\n",
    "#@santander_br\n",
    "#@nubank\n",
    "#@Bancointer\n",
    "#@falanext\n",
    "\n",
    "at = '@itau'\n",
    "\n",
    "tweetCriteria = got3.manager.TweetCriteria().setSince(\"2020-05-01\").setUntil(\"2020-06-01\").setQuerySearch(at).setMaxTweets(50000)\n",
    "tweets = got3.manager.TweetManager.getTweets(tweetCriteria)"
   ]
  },
  {
   "cell_type": "code",
   "execution_count": 4,
   "metadata": {},
   "outputs": [
    {
     "data": {
      "text/plain": [
       "19114"
      ]
     },
     "execution_count": 4,
     "metadata": {},
     "output_type": "execute_result"
    }
   ],
   "source": [
    "len(tweets)"
   ]
  },
  {
   "cell_type": "code",
   "execution_count": 5,
   "metadata": {},
   "outputs": [],
   "source": [
    "tweets_list = []\n",
    "for t in tweets:\n",
    "    tweets_list.append([t.date, t.text])\n",
    "\n",
    "df = pd.DataFrame(tweets_list, columns=['date', 'text'])\n",
    "df['date'] = [x.strftime('%Y-%m-%d') for x in df.date]\n",
    "\n",
    "df.to_csv('data/itau/itau-may2020.csv')"
   ]
  },
  {
   "cell_type": "code",
   "execution_count": 6,
   "metadata": {
    "scrolled": true
   },
   "outputs": [
    {
     "data": {
      "text/html": [
       "<div>\n",
       "<style scoped>\n",
       "    .dataframe tbody tr th:only-of-type {\n",
       "        vertical-align: middle;\n",
       "    }\n",
       "\n",
       "    .dataframe tbody tr th {\n",
       "        vertical-align: top;\n",
       "    }\n",
       "\n",
       "    .dataframe thead th {\n",
       "        text-align: right;\n",
       "    }\n",
       "</style>\n",
       "<table border=\"1\" class=\"dataframe\">\n",
       "  <thead>\n",
       "    <tr style=\"text-align: right;\">\n",
       "      <th></th>\n",
       "      <th>date</th>\n",
       "      <th>text</th>\n",
       "    </tr>\n",
       "  </thead>\n",
       "  <tbody>\n",
       "    <tr>\n",
       "      <th>0</th>\n",
       "      <td>2020-05-31</td>\n",
       "      <td>Olha, será que assim resolve? Porq eu já desga...</td>\n",
       "    </tr>\n",
       "    <tr>\n",
       "      <th>1</th>\n",
       "      <td>2020-05-31</td>\n",
       "      <td>Meu presente de aniversário do @itau</td>\n",
       "    </tr>\n",
       "    <tr>\n",
       "      <th>2</th>\n",
       "      <td>2020-05-31</td>\n",
       "      <td>Boa noite.... O Itaú oferece algum tipo de maq...</td>\n",
       "    </tr>\n",
       "    <tr>\n",
       "      <th>3</th>\n",
       "      <td>2020-05-31</td>\n",
       "      <td>Que medo tenho eu de como serão as aulas desta...</td>\n",
       "    </tr>\n",
       "    <tr>\n",
       "      <th>4</th>\n",
       "      <td>2020-05-31</td>\n",
       "      <td>Caralho @itau quero bloquear um cartão por rou...</td>\n",
       "    </tr>\n",
       "    <tr>\n",
       "      <th>...</th>\n",
       "      <td>...</td>\n",
       "      <td>...</td>\n",
       "    </tr>\n",
       "    <tr>\n",
       "      <th>19109</th>\n",
       "      <td>2020-05-01</td>\n",
       "      <td>Porra @itau , propaganda “emocional” de um sen...</td>\n",
       "    </tr>\n",
       "    <tr>\n",
       "      <th>19110</th>\n",
       "      <td>2020-05-01</td>\n",
       "      <td>Todos se cuidando e pensando no próximo Amei o...</td>\n",
       "    </tr>\n",
       "    <tr>\n",
       "      <th>19111</th>\n",
       "      <td>2020-05-01</td>\n",
       "      <td>@itau vocês não tem vergonha na cara, fazer um...</td>\n",
       "    </tr>\n",
       "    <tr>\n",
       "      <th>19112</th>\n",
       "      <td>2020-05-01</td>\n",
       "      <td>nao!!! alias, só dura 2 horas dps tem que ser ...</td>\n",
       "    </tr>\n",
       "    <tr>\n",
       "      <th>19113</th>\n",
       "      <td>2020-05-01</td>\n",
       "      <td>O pior foco no seu caminho é o elevador, as go...</td>\n",
       "    </tr>\n",
       "  </tbody>\n",
       "</table>\n",
       "<p>19114 rows × 2 columns</p>\n",
       "</div>"
      ],
      "text/plain": [
       "             date                                               text\n",
       "0      2020-05-31  Olha, será que assim resolve? Porq eu já desga...\n",
       "1      2020-05-31              Meu presente de aniversário do @itau \n",
       "2      2020-05-31  Boa noite.... O Itaú oferece algum tipo de maq...\n",
       "3      2020-05-31  Que medo tenho eu de como serão as aulas desta...\n",
       "4      2020-05-31  Caralho @itau quero bloquear um cartão por rou...\n",
       "...           ...                                                ...\n",
       "19109  2020-05-01  Porra @itau , propaganda “emocional” de um sen...\n",
       "19110  2020-05-01  Todos se cuidando e pensando no próximo Amei o...\n",
       "19111  2020-05-01  @itau vocês não tem vergonha na cara, fazer um...\n",
       "19112  2020-05-01  nao!!! alias, só dura 2 horas dps tem que ser ...\n",
       "19113  2020-05-01  O pior foco no seu caminho é o elevador, as go...\n",
       "\n",
       "[19114 rows x 2 columns]"
      ]
     },
     "execution_count": 6,
     "metadata": {},
     "output_type": "execute_result"
    }
   ],
   "source": [
    "df"
   ]
  },
  {
   "cell_type": "code",
   "execution_count": 8,
   "metadata": {},
   "outputs": [
    {
     "data": {
      "text/html": [
       "<div>\n",
       "<style scoped>\n",
       "    .dataframe tbody tr th:only-of-type {\n",
       "        vertical-align: middle;\n",
       "    }\n",
       "\n",
       "    .dataframe tbody tr th {\n",
       "        vertical-align: top;\n",
       "    }\n",
       "\n",
       "    .dataframe thead th {\n",
       "        text-align: right;\n",
       "    }\n",
       "</style>\n",
       "<table border=\"1\" class=\"dataframe\">\n",
       "  <thead>\n",
       "    <tr style=\"text-align: right;\">\n",
       "      <th></th>\n",
       "      <th>date</th>\n",
       "      <th>text</th>\n",
       "    </tr>\n",
       "  </thead>\n",
       "  <tbody>\n",
       "    <tr>\n",
       "      <th>0</th>\n",
       "      <td>2020-05-31</td>\n",
       "      <td>Olha, será que assim resolve? Porq eu já desga...</td>\n",
       "    </tr>\n",
       "    <tr>\n",
       "      <th>1</th>\n",
       "      <td>2020-05-31</td>\n",
       "      <td>Meu presente de aniversário do @itau</td>\n",
       "    </tr>\n",
       "    <tr>\n",
       "      <th>2</th>\n",
       "      <td>2020-05-31</td>\n",
       "      <td>Boa noite.... O Itaú oferece algum tipo de maq...</td>\n",
       "    </tr>\n",
       "    <tr>\n",
       "      <th>3</th>\n",
       "      <td>2020-05-31</td>\n",
       "      <td>Que medo tenho eu de como serão as aulas desta...</td>\n",
       "    </tr>\n",
       "    <tr>\n",
       "      <th>4</th>\n",
       "      <td>2020-05-31</td>\n",
       "      <td>Caralho @itau quero bloquear um cartão por rou...</td>\n",
       "    </tr>\n",
       "    <tr>\n",
       "      <th>...</th>\n",
       "      <td>...</td>\n",
       "      <td>...</td>\n",
       "    </tr>\n",
       "    <tr>\n",
       "      <th>19109</th>\n",
       "      <td>2020-05-01</td>\n",
       "      <td>Porra @itau , propaganda “emocional” de um sen...</td>\n",
       "    </tr>\n",
       "    <tr>\n",
       "      <th>19110</th>\n",
       "      <td>2020-05-01</td>\n",
       "      <td>Todos se cuidando e pensando no próximo Amei o...</td>\n",
       "    </tr>\n",
       "    <tr>\n",
       "      <th>19111</th>\n",
       "      <td>2020-05-01</td>\n",
       "      <td>@itau vocês não tem vergonha na cara, fazer um...</td>\n",
       "    </tr>\n",
       "    <tr>\n",
       "      <th>19112</th>\n",
       "      <td>2020-05-01</td>\n",
       "      <td>nao!!! alias, só dura 2 horas dps tem que ser ...</td>\n",
       "    </tr>\n",
       "    <tr>\n",
       "      <th>19113</th>\n",
       "      <td>2020-05-01</td>\n",
       "      <td>O pior foco no seu caminho é o elevador, as go...</td>\n",
       "    </tr>\n",
       "  </tbody>\n",
       "</table>\n",
       "<p>19114 rows × 2 columns</p>\n",
       "</div>"
      ],
      "text/plain": [
       "             date                                               text\n",
       "0      2020-05-31  Olha, será que assim resolve? Porq eu já desga...\n",
       "1      2020-05-31              Meu presente de aniversário do @itau \n",
       "2      2020-05-31  Boa noite.... O Itaú oferece algum tipo de maq...\n",
       "3      2020-05-31  Que medo tenho eu de como serão as aulas desta...\n",
       "4      2020-05-31  Caralho @itau quero bloquear um cartão por rou...\n",
       "...           ...                                                ...\n",
       "19109  2020-05-01  Porra @itau , propaganda “emocional” de um sen...\n",
       "19110  2020-05-01  Todos se cuidando e pensando no próximo Amei o...\n",
       "19111  2020-05-01  @itau vocês não tem vergonha na cara, fazer um...\n",
       "19112  2020-05-01  nao!!! alias, só dura 2 horas dps tem que ser ...\n",
       "19113  2020-05-01  O pior foco no seu caminho é o elevador, as go...\n",
       "\n",
       "[19114 rows x 2 columns]"
      ]
     },
     "execution_count": 8,
     "metadata": {},
     "output_type": "execute_result"
    }
   ],
   "source": [
    "df2 = pd.read_csv('data/itau/itau-may2020.csv', index_col =0)\n",
    "df2"
   ]
  }
 ],
 "metadata": {
  "kernelspec": {
   "display_name": "Python 3",
   "language": "python",
   "name": "python3"
  },
  "language_info": {
   "codemirror_mode": {
    "name": "ipython",
    "version": 3
   },
   "file_extension": ".py",
   "mimetype": "text/x-python",
   "name": "python",
   "nbconvert_exporter": "python",
   "pygments_lexer": "ipython3",
   "version": "3.6.4"
  }
 },
 "nbformat": 4,
 "nbformat_minor": 2
}
