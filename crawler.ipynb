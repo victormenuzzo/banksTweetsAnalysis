{
 "cells": [
  {
   "cell_type": "markdown",
   "metadata": {},
   "source": [
    "## Imports"
   ]
  },
  {
   "cell_type": "code",
   "execution_count": 18,
   "metadata": {},
   "outputs": [],
   "source": [
    "import GetOldTweets3 as got3\n",
    "import pandas as pd\n",
    "import datetime"
   ]
  },
  {
   "cell_type": "markdown",
   "metadata": {},
   "source": [
    "## Twitter data "
   ]
  },
  {
   "cell_type": "markdown",
   "metadata": {},
   "source": [
    "the following @s were used to do the query:\n",
    "<br>\n",
    "<b>\n",
    "    @Bradesco<br>\n",
    "    @itau<br>\n",
    "    @BancodoBrasil<br>\n",
    "    @nubank<br>\n",
    "    @Bancointer<br>\n",
    "    @falanext<br>\n",
    "</b>"
   ]
  },
  {
   "cell_type": "code",
   "execution_count": 38,
   "metadata": {},
   "outputs": [],
   "source": [
    "#@Bradesco\n",
    "#@itau\n",
    "#@BancodoBrasil\n",
    "#@santander_br\n",
    "#@nubank\n",
    "#@Bancointer\n",
    "#@falanext\n",
    "\n",
    "at = '@itau'\n",
    "\n",
    "tweetCriteria = got3.manager.TweetCriteria().setSince(\"2020-03-20\").setUntil(\"2020-03-26\").setQuerySearch(at)\n",
    "tweets = got3.manager.TweetManager.getTweets(tweetCriteria)"
   ]
  },
  {
   "cell_type": "code",
   "execution_count": 39,
   "metadata": {},
   "outputs": [
    {
     "data": {
      "text/plain": [
       "6374"
      ]
     },
     "execution_count": 39,
     "metadata": {},
     "output_type": "execute_result"
    }
   ],
   "source": [
    "len(tweets)"
   ]
  },
  {
   "cell_type": "code",
   "execution_count": 40,
   "metadata": {},
   "outputs": [],
   "source": [
    "tweets_list = []\n",
    "for t in tweets:\n",
    "    tweets_list.append([t.date, t.text])\n",
    "\n",
    "df = pd.DataFrame(tweets_list, columns=['date', 'text'])\n",
    "df['date'] = [x.strftime('%Y-%m-%d') for x in df.date]\n",
    "\n",
    "df.to_csv('data/itau/itau-mar2020-3.csv')"
   ]
  },
  {
   "cell_type": "code",
   "execution_count": 31,
   "metadata": {
    "scrolled": true
   },
   "outputs": [
    {
     "data": {
      "text/plain": [
       "'2020-03-01'"
      ]
     },
     "execution_count": 31,
     "metadata": {},
     "output_type": "execute_result"
    }
   ],
   "source": [
    "df.date.min()"
   ]
  },
  {
   "cell_type": "code",
   "execution_count": 41,
   "metadata": {},
   "outputs": [
    {
     "data": {
      "text/plain": [
       "(date    2020-03-25\n",
       " text             🖒\n",
       " dtype: object, date    2020-03-20\n",
       " text              \n",
       " dtype: object)"
      ]
     },
     "execution_count": 41,
     "metadata": {},
     "output_type": "execute_result"
    }
   ],
   "source": [
    "df.max(), df.min()"
   ]
  },
  {
   "cell_type": "code",
   "execution_count": null,
   "metadata": {},
   "outputs": [],
   "source": []
  }
 ],
 "metadata": {
  "kernelspec": {
   "display_name": "Python 3",
   "language": "python",
   "name": "python3"
  },
  "language_info": {
   "codemirror_mode": {
    "name": "ipython",
    "version": 3
   },
   "file_extension": ".py",
   "mimetype": "text/x-python",
   "name": "python",
   "nbconvert_exporter": "python",
   "pygments_lexer": "ipython3",
   "version": "3.6.4"
  }
 },
 "nbformat": 4,
 "nbformat_minor": 2
}
