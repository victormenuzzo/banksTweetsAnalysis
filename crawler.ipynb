{
 "cells": [
  {
   "cell_type": "markdown",
   "metadata": {},
   "source": [
    "## Imports"
   ]
  },
  {
   "cell_type": "code",
   "execution_count": 2,
   "metadata": {},
   "outputs": [],
   "source": [
    "import GetOldTweets3 as got3\n",
    "import pandas as pd\n",
    "import datetime"
   ]
  },
  {
   "cell_type": "markdown",
   "metadata": {},
   "source": [
    "## Twitter data "
   ]
  },
  {
   "cell_type": "markdown",
   "metadata": {},
   "source": [
    "the following @s were used to do the query:\n",
    "<br>\n",
    "<b>\n",
    "    @Bradesco<br>\n",
    "    @itau<br>\n",
    "    @BancodoBrasil<br>\n",
    "    @santander_br<br>\n",
    "    @nubank<br>\n",
    "    @Bancointer<br>\n",
    "    @falanext<br>\n",
    "</b>"
   ]
  },
  {
   "cell_type": "code",
   "execution_count": 12,
   "metadata": {},
   "outputs": [],
   "source": [
    "#@Bradesco\n",
    "#@itau\n",
    "#@BancodoBrasil\n",
    "#@santander_br\n",
    "#@nubank\n",
    "#@Bancointer\n",
    "#@falanext\n",
    "\n",
    "at = '@falanext'\n",
    "\n",
    "tweetCriteria = got3.manager.TweetCriteria().setSince(\"2019-10-01\").setUntil(\"2020-11-01\").setQuerySearch(at).setMaxTweets(50000)\n",
    "tweets = got3.manager.TweetManager.getTweets(tweetCriteria)"
   ]
  },
  {
   "cell_type": "code",
   "execution_count": 13,
   "metadata": {},
   "outputs": [
    {
     "data": {
      "text/plain": [
       "50000"
      ]
     },
     "execution_count": 13,
     "metadata": {},
     "output_type": "execute_result"
    }
   ],
   "source": [
    "len(tweets)"
   ]
  },
  {
   "cell_type": "code",
   "execution_count": 14,
   "metadata": {},
   "outputs": [],
   "source": [
    "tweets_list = []\n",
    "for t in tweets:\n",
    "    tweets_list.append([t.date, t.text])\n",
    "\n",
    "df = pd.DataFrame(tweets_list, columns=['date', 'text'])\n",
    "df['date'] = [x.strftime('%Y-%m-%d') for x in df.date]\n",
    "\n",
    "df.to_csv('data/next/next-oct2019.csv')"
   ]
  },
  {
   "cell_type": "code",
   "execution_count": 6,
   "metadata": {
    "scrolled": true
   },
   "outputs": [
    {
     "data": {
      "text/html": [
       "<div>\n",
       "<style scoped>\n",
       "    .dataframe tbody tr th:only-of-type {\n",
       "        vertical-align: middle;\n",
       "    }\n",
       "\n",
       "    .dataframe tbody tr th {\n",
       "        vertical-align: top;\n",
       "    }\n",
       "\n",
       "    .dataframe thead th {\n",
       "        text-align: right;\n",
       "    }\n",
       "</style>\n",
       "<table border=\"1\" class=\"dataframe\">\n",
       "  <thead>\n",
       "    <tr style=\"text-align: right;\">\n",
       "      <th></th>\n",
       "      <th>date</th>\n",
       "      <th>text</th>\n",
       "    </tr>\n",
       "  </thead>\n",
       "  <tbody>\n",
       "    <tr>\n",
       "      <th>0</th>\n",
       "      <td>2019-12-31</td>\n",
       "      <td>@LollapaloozaBr corre aqui</td>\n",
       "    </tr>\n",
       "    <tr>\n",
       "      <th>1</th>\n",
       "      <td>2019-12-31</td>\n",
       "      <td>@LollapaloozaBr POR FAVO</td>\n",
       "    </tr>\n",
       "    <tr>\n",
       "      <th>2</th>\n",
       "      <td>2019-12-31</td>\n",
       "      <td>@LollapaloozaBr</td>\n",
       "    </tr>\n",
       "    <tr>\n",
       "      <th>3</th>\n",
       "      <td>2019-12-31</td>\n",
       "      <td>Meu vídeo para o @falanext ficou horrível.</td>\n",
       "    </tr>\n",
       "    <tr>\n",
       "      <th>4</th>\n",
       "      <td>2019-12-31</td>\n",
       "      <td>@LollapaloozaBr</td>\n",
       "    </tr>\n",
       "    <tr>\n",
       "      <th>...</th>\n",
       "      <td>...</td>\n",
       "      <td>...</td>\n",
       "    </tr>\n",
       "    <tr>\n",
       "      <th>4918</th>\n",
       "      <td>2019-12-01</td>\n",
       "      <td>jogo rocket league tb, mas não tem nem compara...</td>\n",
       "    </tr>\n",
       "    <tr>\n",
       "      <th>4919</th>\n",
       "      <td>2019-12-01</td>\n",
       "      <td>kkkkkkkkkkkk que piada</td>\n",
       "    </tr>\n",
       "    <tr>\n",
       "      <th>4920</th>\n",
       "      <td>2019-12-01</td>\n",
       "      <td>@njwnct</td>\n",
       "    </tr>\n",
       "    <tr>\n",
       "      <th>4921</th>\n",
       "      <td>2019-12-01</td>\n",
       "      <td>ta bom vo da uma chance pra voces....</td>\n",
       "    </tr>\n",
       "    <tr>\n",
       "      <th>4922</th>\n",
       "      <td>2019-12-01</td>\n",
       "      <td>Porra pato tu ainda responde?</td>\n",
       "    </tr>\n",
       "  </tbody>\n",
       "</table>\n",
       "<p>4923 rows × 2 columns</p>\n",
       "</div>"
      ],
      "text/plain": [
       "            date                                               text\n",
       "0     2019-12-31                         @LollapaloozaBr corre aqui\n",
       "1     2019-12-31                           @LollapaloozaBr POR FAVO\n",
       "2     2019-12-31                                    @LollapaloozaBr\n",
       "3     2019-12-31         Meu vídeo para o @falanext ficou horrível.\n",
       "4     2019-12-31                                    @LollapaloozaBr\n",
       "...          ...                                                ...\n",
       "4918  2019-12-01  jogo rocket league tb, mas não tem nem compara...\n",
       "4919  2019-12-01                             kkkkkkkkkkkk que piada\n",
       "4920  2019-12-01                                            @njwnct\n",
       "4921  2019-12-01              ta bom vo da uma chance pra voces....\n",
       "4922  2019-12-01                      Porra pato tu ainda responde?\n",
       "\n",
       "[4923 rows x 2 columns]"
      ]
     },
     "execution_count": 6,
     "metadata": {},
     "output_type": "execute_result"
    }
   ],
   "source": [
    "df"
   ]
  },
  {
   "cell_type": "code",
   "execution_count": 10,
   "metadata": {},
   "outputs": [],
   "source": [
    "import seaborn as sns"
   ]
  },
  {
   "cell_type": "code",
   "execution_count": null,
   "metadata": {},
   "outputs": [],
   "source": []
  }
 ],
 "metadata": {
  "kernelspec": {
   "display_name": "Python 3",
   "language": "python",
   "name": "python3"
  },
  "language_info": {
   "codemirror_mode": {
    "name": "ipython",
    "version": 3
   },
   "file_extension": ".py",
   "mimetype": "text/x-python",
   "name": "python",
   "nbconvert_exporter": "python",
   "pygments_lexer": "ipython3",
   "version": "3.6.4"
  }
 },
 "nbformat": 4,
 "nbformat_minor": 2
}
